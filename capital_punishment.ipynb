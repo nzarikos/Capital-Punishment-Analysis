{
 "cells": [
  {
   "cell_type": "code",
   "execution_count": 2,
   "metadata": {},
   "outputs": [],
   "source": [
    "import pandas as pd\n",
    "import numpy as np \n",
    "import matplotlib.pyplot as plt"
   ]
  },
  {
   "cell_type": "markdown",
   "metadata": {},
   "source": [
    "A little bit about the dataset, CrimeRates.csv. "
   ]
  },
  {
   "cell_type": "code",
   "execution_count": 4,
   "metadata": {},
   "outputs": [],
   "source": [
    "crimes = pd.read_csv('CrimeRates.csv')"
   ]
  },
  {
   "cell_type": "code",
   "execution_count": 5,
   "metadata": {},
   "outputs": [
    {
     "data": {
      "text/html": [
       "<div>\n",
       "<style scoped>\n",
       "    .dataframe tbody tr th:only-of-type {\n",
       "        vertical-align: middle;\n",
       "    }\n",
       "\n",
       "    .dataframe tbody tr th {\n",
       "        vertical-align: top;\n",
       "    }\n",
       "\n",
       "    .dataframe thead th {\n",
       "        text-align: right;\n",
       "    }\n",
       "</style>\n",
       "<table border=\"1\" class=\"dataframe\">\n",
       "  <thead>\n",
       "    <tr style=\"text-align: right;\">\n",
       "      <th></th>\n",
       "      <th>State</th>\n",
       "      <th>Year</th>\n",
       "      <th>Population</th>\n",
       "      <th>Violent Crime Rate</th>\n",
       "      <th>Murder Rate</th>\n",
       "      <th>Forcible Rape Rate</th>\n",
       "      <th>Robbery Rate</th>\n",
       "      <th>Aggraveted Assault Rate</th>\n",
       "      <th>Property Crime Rate</th>\n",
       "      <th>Burglary Rate</th>\n",
       "      <th>Larceny &amp; Theft Rate</th>\n",
       "      <th>Motor Vehicle Theft Rate</th>\n",
       "    </tr>\n",
       "  </thead>\n",
       "  <tbody>\n",
       "    <tr>\n",
       "      <th>0</th>\n",
       "      <td>Alaska</td>\n",
       "      <td>1960</td>\n",
       "      <td>226167</td>\n",
       "      <td>104.300003</td>\n",
       "      <td>10.2</td>\n",
       "      <td>20.799999</td>\n",
       "      <td>28.299999</td>\n",
       "      <td>45.099998</td>\n",
       "      <td>1544.900024</td>\n",
       "      <td>332.100006</td>\n",
       "      <td>970.500000</td>\n",
       "      <td>242.300003</td>\n",
       "    </tr>\n",
       "    <tr>\n",
       "      <th>1</th>\n",
       "      <td>Alaska</td>\n",
       "      <td>1961</td>\n",
       "      <td>234000</td>\n",
       "      <td>88.900002</td>\n",
       "      <td>11.5</td>\n",
       "      <td>13.200000</td>\n",
       "      <td>12.400000</td>\n",
       "      <td>51.700001</td>\n",
       "      <td>1540.599976</td>\n",
       "      <td>380.799988</td>\n",
       "      <td>950.000000</td>\n",
       "      <td>209.800003</td>\n",
       "    </tr>\n",
       "    <tr>\n",
       "      <th>2</th>\n",
       "      <td>Alaska</td>\n",
       "      <td>1962</td>\n",
       "      <td>246000</td>\n",
       "      <td>91.500000</td>\n",
       "      <td>4.5</td>\n",
       "      <td>18.700001</td>\n",
       "      <td>13.800000</td>\n",
       "      <td>54.500000</td>\n",
       "      <td>1564.599976</td>\n",
       "      <td>351.600006</td>\n",
       "      <td>985.400024</td>\n",
       "      <td>227.600006</td>\n",
       "    </tr>\n",
       "    <tr>\n",
       "      <th>3</th>\n",
       "      <td>Alaska</td>\n",
       "      <td>1963</td>\n",
       "      <td>248000</td>\n",
       "      <td>109.699997</td>\n",
       "      <td>6.5</td>\n",
       "      <td>14.900000</td>\n",
       "      <td>22.200001</td>\n",
       "      <td>66.099998</td>\n",
       "      <td>1952.800049</td>\n",
       "      <td>381.500000</td>\n",
       "      <td>1213.699951</td>\n",
       "      <td>357.700012</td>\n",
       "    </tr>\n",
       "    <tr>\n",
       "      <th>4</th>\n",
       "      <td>Alaska</td>\n",
       "      <td>1964</td>\n",
       "      <td>250000</td>\n",
       "      <td>150.000000</td>\n",
       "      <td>10.4</td>\n",
       "      <td>22.400000</td>\n",
       "      <td>21.200001</td>\n",
       "      <td>96.000000</td>\n",
       "      <td>2016.000000</td>\n",
       "      <td>443.600006</td>\n",
       "      <td>1218.400024</td>\n",
       "      <td>354.000000</td>\n",
       "    </tr>\n",
       "  </tbody>\n",
       "</table>\n",
       "</div>"
      ],
      "text/plain": [
       "    State  Year  Population  Violent Crime Rate  Murder Rate  \\\n",
       "0  Alaska  1960      226167          104.300003         10.2   \n",
       "1  Alaska  1961      234000           88.900002         11.5   \n",
       "2  Alaska  1962      246000           91.500000          4.5   \n",
       "3  Alaska  1963      248000          109.699997          6.5   \n",
       "4  Alaska  1964      250000          150.000000         10.4   \n",
       "\n",
       "   Forcible Rape Rate  Robbery Rate  Aggraveted Assault Rate  \\\n",
       "0           20.799999     28.299999                45.099998   \n",
       "1           13.200000     12.400000                51.700001   \n",
       "2           18.700001     13.800000                54.500000   \n",
       "3           14.900000     22.200001                66.099998   \n",
       "4           22.400000     21.200001                96.000000   \n",
       "\n",
       "   Property Crime Rate  Burglary Rate  Larceny & Theft Rate  \\\n",
       "0          1544.900024     332.100006            970.500000   \n",
       "1          1540.599976     380.799988            950.000000   \n",
       "2          1564.599976     351.600006            985.400024   \n",
       "3          1952.800049     381.500000           1213.699951   \n",
       "4          2016.000000     443.600006           1218.400024   \n",
       "\n",
       "   Motor Vehicle Theft Rate  \n",
       "0                242.300003  \n",
       "1                209.800003  \n",
       "2                227.600006  \n",
       "3                357.700012  \n",
       "4                354.000000  "
      ]
     },
     "execution_count": 5,
     "metadata": {},
     "output_type": "execute_result"
    }
   ],
   "source": [
    "crimes.head()"
   ]
  },
  {
   "cell_type": "markdown",
   "metadata": {},
   "source": [
    "The death penalty, or capital punishment, is defined as the infliction of death as a punishment for breaking criminal law. In the United States, the death penalty is usually applied for crimes that are considered especially horrible, such as murder, but is also used in cases of treason and large-scale drug trafficking.\n",
    "\n",
    "\n",
    "Today's methods of capital punishment include:\n",
    "\n",
    "* Lethal Injection \n",
    "* Hanging\n",
    "* Gas Chamber \n",
    "* Firing Squad \n",
    "* Electrocution "
   ]
  },
  {
   "cell_type": "markdown",
   "metadata": {},
   "source": [
    "Capital punishmment has been a controversial topic for centuries. There are many arguments for and against capital punishment. I will not focus on expanding or debating the issue, but I will focus my attention on one reason someone may be in favor of capital punishment: **Deterrence**"
   ]
  },
  {
   "cell_type": "markdown",
   "metadata": {},
   "source": [
    "In 2002 Hashem Dezhbakhsh, Paul H. Rubin, and Joanna M. Shepherd investigated how [capital punishment contributes to deterrence](https://cjlf.org/deathpenalty/DezRubShepDeterFinal.pdf) - if capital punishment deters future murders. "
   ]
  },
  {
   "cell_type": "markdown",
   "metadata": {},
   "source": [
    "# Analysis"
   ]
  },
  {
   "cell_type": "markdown",
   "metadata": {},
   "source": [
    "The data ranges from 1960-2003. \n",
    "* Alaska abolished capital punishment in 1957\n",
    "* Iowa abolished capital punishment in 1965\n",
    "* Massachussettes abolished capital punishment in 1984\n",
    "* Minnesota abolished capital punishment in 1911\n",
    "* Michigan abolished capital punishment in 1846\n",
    "* Maine abolished capital punishment in 1887\n",
    "* Wisconsin abolished capital punishment in 1853"
   ]
  },
  {
   "cell_type": "code",
   "execution_count": 6,
   "metadata": {},
   "outputs": [],
   "source": [
    "# DataFrame with only State, Year, and Murder Rate\n",
    "murder_df = crimes[['State', 'Year', 'Murder Rate']]"
   ]
  },
  {
   "cell_type": "code",
   "execution_count": 7,
   "metadata": {},
   "outputs": [
    {
     "data": {
      "text/html": [
       "<div>\n",
       "<style scoped>\n",
       "    .dataframe tbody tr th:only-of-type {\n",
       "        vertical-align: middle;\n",
       "    }\n",
       "\n",
       "    .dataframe tbody tr th {\n",
       "        vertical-align: top;\n",
       "    }\n",
       "\n",
       "    .dataframe thead th {\n",
       "        text-align: right;\n",
       "    }\n",
       "</style>\n",
       "<table border=\"1\" class=\"dataframe\">\n",
       "  <thead>\n",
       "    <tr style=\"text-align: right;\">\n",
       "      <th></th>\n",
       "      <th>State</th>\n",
       "      <th>Year</th>\n",
       "      <th>Murder Rate</th>\n",
       "    </tr>\n",
       "  </thead>\n",
       "  <tbody>\n",
       "    <tr>\n",
       "      <th>0</th>\n",
       "      <td>Alaska</td>\n",
       "      <td>1960</td>\n",
       "      <td>10.2</td>\n",
       "    </tr>\n",
       "    <tr>\n",
       "      <th>1</th>\n",
       "      <td>Alaska</td>\n",
       "      <td>1961</td>\n",
       "      <td>11.5</td>\n",
       "    </tr>\n",
       "    <tr>\n",
       "      <th>2</th>\n",
       "      <td>Alaska</td>\n",
       "      <td>1962</td>\n",
       "      <td>4.5</td>\n",
       "    </tr>\n",
       "    <tr>\n",
       "      <th>3</th>\n",
       "      <td>Alaska</td>\n",
       "      <td>1963</td>\n",
       "      <td>6.5</td>\n",
       "    </tr>\n",
       "    <tr>\n",
       "      <th>4</th>\n",
       "      <td>Alaska</td>\n",
       "      <td>1964</td>\n",
       "      <td>10.4</td>\n",
       "    </tr>\n",
       "  </tbody>\n",
       "</table>\n",
       "</div>"
      ],
      "text/plain": [
       "    State  Year  Murder Rate\n",
       "0  Alaska  1960         10.2\n",
       "1  Alaska  1961         11.5\n",
       "2  Alaska  1962          4.5\n",
       "3  Alaska  1963          6.5\n",
       "4  Alaska  1964         10.4"
      ]
     },
     "execution_count": 7,
     "metadata": {},
     "output_type": "execute_result"
    }
   ],
   "source": [
    "# Producing DataFrame which has states: Alaska, Michigan, Minnesota, Maine, Wisconsin \n",
    "al_mi_mn_me_wi = crimes[(crimes['State'] == 'Alaska') | (crimes['State'] =='Michigan') | (crimes['State'] =='Minnesota') | (crimes['State'] =='Maine') | (crimes['State'] =='Wisconsin')]\n",
    "control_df = al_mi_mn_me_wi[['State', 'Year', 'Murder Rate']]\n",
    "control_df.head()"
   ]
  },
  {
   "cell_type": "markdown",
   "metadata": {},
   "source": [
    "In Furman v Georgia (1972) Supreme Court passed a de facto memoratorium on capital punishment. There are many years to work with, let's group then over an average of 2 years, focusing on 1960-1962; the furthest away we can get from 1972. "
   ]
  },
  {
   "cell_type": "code",
   "execution_count": 12,
   "metadata": {
    "scrolled": true
   },
   "outputs": [
    {
     "data": {
      "image/png": "[encoded data removed]",
      "text/plain": [
       "<Figure size 432x288 with 1 Axes>"
      ]
     },
     "metadata": {
      "needs_background": "light"
     },
     "output_type": "display_data"
    }
   ],
   "source": [
    "# Isolating control group through the years 1960-1963 inclusive \n",
    "control_1960_to_1963 = control_df[(control_df['Year'] >= 1960) & (control_df['Year'] <= 1963)].reset_index()\n",
    "\n",
    "# Arrange columns by State, column entries are Murder Rates for those rates, row index as Year\n",
    "df = control_1960_to_1963.pivot(\n",
    "index = 'Year',\n",
    "columns = 'State',\n",
    "values = 'Murder Rate' ) \n",
    "\n",
    "ax = df.plot(xticks=df.index)\n",
    "ylab = ax.set_ylabel('Murder Rate')"
   ]
  },
  {
   "cell_type": "markdown",
   "metadata": {},
   "source": [
    " The control group will be the states which began with no capital punishment, and never adopted capital punishment (from the dates the data was collected). "
   ]
  },
  {
   "cell_type": "code",
   "execution_count": 13,
   "metadata": {
    "scrolled": true
   },
   "outputs": [
    {
     "data": {
      "text/html": [
       "<div>\n",
       "<style scoped>\n",
       "    .dataframe tbody tr th:only-of-type {\n",
       "        vertical-align: middle;\n",
       "    }\n",
       "\n",
       "    .dataframe tbody tr th {\n",
       "        vertical-align: top;\n",
       "    }\n",
       "\n",
       "    .dataframe thead th {\n",
       "        text-align: right;\n",
       "    }\n",
       "</style>\n",
       "<table border=\"1\" class=\"dataframe\">\n",
       "  <thead>\n",
       "    <tr style=\"text-align: right;\">\n",
       "      <th>State</th>\n",
       "      <th>Florida</th>\n",
       "      <th>Louisiana</th>\n",
       "      <th>Nevada</th>\n",
       "      <th>New Mexico</th>\n",
       "      <th>Texas</th>\n",
       "    </tr>\n",
       "    <tr>\n",
       "      <th>Year</th>\n",
       "      <th></th>\n",
       "      <th></th>\n",
       "      <th></th>\n",
       "      <th></th>\n",
       "      <th></th>\n",
       "    </tr>\n",
       "  </thead>\n",
       "  <tbody>\n",
       "    <tr>\n",
       "      <th>1986</th>\n",
       "      <td>11.7</td>\n",
       "      <td>12.8</td>\n",
       "      <td>12.6</td>\n",
       "      <td>11.5</td>\n",
       "      <td>13.5</td>\n",
       "    </tr>\n",
       "  </tbody>\n",
       "</table>\n",
       "</div>"
      ],
      "text/plain": [
       "State  Florida  Louisiana  Nevada  New Mexico  Texas\n",
       "Year                                                \n",
       "1986      11.7       12.8    12.6        11.5   13.5"
      ]
     },
     "execution_count": 13,
     "metadata": {},
     "output_type": "execute_result"
    },
    {
     "data": {
      "image/png": "[encoded data removed]",
      "text/plain": [
       "<Figure size 432x288 with 1 Axes>"
      ]
     },
     "metadata": {
      "needs_background": "light"
     },
     "output_type": "display_data"
    }
   ],
   "source": [
    "#Function that has input a year, and plots the n states with the highest murder rates of that year. \n",
    "def murderous(year, n):\n",
    "    mask = murder_df[murder_df['Year'] == year]\n",
    "    most_murderous = mask.nlargest(n, 'Murder Rate') \n",
    "    # Pivot function\n",
    "    most_murderous_pivot = most_murderous.pivot(\n",
    "        columns = 'State',\n",
    "        index = 'Year',\n",
    "        values = 'Murder Rate')\n",
    "    ax = most_murderous_pivot.T.plot(kind = 'bar')\n",
    "    ylab = ax.set_ylabel('Murder Rate')\n",
    "    return most_murderous_pivot\n",
    "\n",
    "# For example, let's look at the top 5 'most murderous' states in the year 1986\n",
    "murderous(1986, 5)    \n",
    "    \n"
   ]
  },
  {
   "cell_type": "markdown",
   "metadata": {},
   "source": [
    "Out of interest, what are the 5 most murderous states and year?"
   ]
  },
  {
   "cell_type": "code",
   "execution_count": 14,
   "metadata": {},
   "outputs": [
    {
     "data": {
      "text/html": [
       "<div>\n",
       "<style scoped>\n",
       "    .dataframe tbody tr th:only-of-type {\n",
       "        vertical-align: middle;\n",
       "    }\n",
       "\n",
       "    .dataframe tbody tr th {\n",
       "        vertical-align: top;\n",
       "    }\n",
       "\n",
       "    .dataframe thead th {\n",
       "        text-align: right;\n",
       "    }\n",
       "</style>\n",
       "<table border=\"1\" class=\"dataframe\">\n",
       "  <thead>\n",
       "    <tr style=\"text-align: right;\">\n",
       "      <th></th>\n",
       "      <th>State</th>\n",
       "      <th>Year</th>\n",
       "      <th>Murder Rate</th>\n",
       "    </tr>\n",
       "  </thead>\n",
       "  <tbody>\n",
       "    <tr>\n",
       "      <th>781</th>\n",
       "      <td>Louisiana</td>\n",
       "      <td>1993</td>\n",
       "      <td>20.299999</td>\n",
       "    </tr>\n",
       "    <tr>\n",
       "      <th>1428</th>\n",
       "      <td>Nevada</td>\n",
       "      <td>1980</td>\n",
       "      <td>20.000000</td>\n",
       "    </tr>\n",
       "    <tr>\n",
       "      <th>782</th>\n",
       "      <td>Louisiana</td>\n",
       "      <td>1994</td>\n",
       "      <td>19.799999</td>\n",
       "    </tr>\n",
       "    <tr>\n",
       "      <th>22</th>\n",
       "      <td>Alaska</td>\n",
       "      <td>1982</td>\n",
       "      <td>18.500000</td>\n",
       "    </tr>\n",
       "    <tr>\n",
       "      <th>408</th>\n",
       "      <td>Georgia</td>\n",
       "      <td>1972</td>\n",
       "      <td>18.500000</td>\n",
       "    </tr>\n",
       "  </tbody>\n",
       "</table>\n",
       "</div>"
      ],
      "text/plain": [
       "          State  Year  Murder Rate\n",
       "781   Louisiana  1993    20.299999\n",
       "1428     Nevada  1980    20.000000\n",
       "782   Louisiana  1994    19.799999\n",
       "22       Alaska  1982    18.500000\n",
       "408     Georgia  1972    18.500000"
      ]
     },
     "execution_count": 14,
     "metadata": {},
     "output_type": "execute_result"
    }
   ],
   "source": [
    "murder_df.nlargest(5, 'Murder Rate')"
   ]
  },
  {
   "cell_type": "markdown",
   "metadata": {},
   "source": [
    "Some sources: https://legal-dictionary.thefreedictionary.com/Death-penalty\n",
    "\n",
    "Identify control group, test group  \n",
    "Clearly say what you will be comparing   \n",
    "look before and after capital punishment introduced  \n",
    "say a little bit about the history  \n",
    "in the future will look at ecoonomic impact  \n"
   ]
  },
  {
   "cell_type": "code",
   "execution_count": null,
   "metadata": {},
   "outputs": [],
   "source": []
  }
 ],
 "metadata": {
  "kernelspec": {
   "display_name": "Python 2",
   "language": "python",
   "name": "python2"
  },
  "language_info": {
   "codemirror_mode": {
    "name": "ipython",
    "version": 2
   },
   "file_extension": ".py",
   "mimetype": "text/x-python",
   "name": "python",
   "nbconvert_exporter": "python",
   "pygments_lexer": "ipython2",
   "version": "2.7.15"
  }
 },
 "nbformat": 4,
 "nbformat_minor": 2
}
